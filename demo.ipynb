{
  "cells": [
    {
      "cell_type": "markdown",
      "metadata": {
        "colab_type": "text",
        "id": "view-in-github"
      },
      "source": [
        "<a href=\"https://colab.research.google.com/github/vitroid/ClustIce/blob/tilecycles/clustice.ipynb\" target=\"_parent\"><img src=\"https://colab.research.google.com/assets/colab-badge.svg\" alt=\"Open In Colab\"/></a>"
      ]
    },
    {
      "cell_type": "code",
      "execution_count": null,
      "metadata": {
        "id": "-KyC8Jyb9h5Q"
      },
      "outputs": [],
      "source": [
        "pip install py3Dmol genice-core"
      ]
    },
    {
      "cell_type": "code",
      "execution_count": null,
      "metadata": {
        "id": "ndYOfam89r5p"
      },
      "outputs": [],
      "source": [
        "pip install git+https://github.com/vitroid/ClustIce.git"
      ]
    },
    {
      "cell_type": "code",
      "execution_count": null,
      "metadata": {},
      "outputs": [],
      "source": [
        "pip install ."
      ]
    },
    {
      "cell_type": "code",
      "execution_count": null,
      "metadata": {},
      "outputs": [],
      "source": [
        "pip uninstall clusitce"
      ]
    },
    {
      "cell_type": "code",
      "execution_count": null,
      "metadata": {
        "id": "th3gZkHV9b2Z"
      },
      "outputs": [],
      "source": [
        "from logging import getLogger, INFO, DEBUG, basicConfig\n",
        "import numpy as np\n",
        "import networkx as nx\n",
        "import py3Dmol\n",
        "\n",
        "from clustice.geometry import make_layout\n",
        "from clustice.gromacs import render\n",
        "from genice_core import ice_graph\n",
        "from genice_core.serialize import serialize\n",
        "from clustice.water import tip4p\n",
        "from clustice import graph\n",
        "\n",
        "\n",
        "logger = getLogger()\n",
        "basicConfig(level=INFO)\n",
        "\n",
        "# O-O distance\n",
        "L = 0.27\n",
        "\n",
        "# note: g must be a graph whose labels start from 0.\n",
        "# g = graph.great_icosahedron(12, separation=L)\n",
        "g = graph.great_decahedron(12)\n",
        "# g = graph.small_barrelan()\n",
        "# g = graph.large_barrelan()\n",
        "# g = graph.twistane()\n",
        "# g = graph.adamantane()\n",
        "# g = nx.cycle_graph(6) # hexagon\n",
        "# g = nx.cycle_graph(7) # heptagon\n",
        "# g = nx.cubical_graph() # cubic octamer\n",
        "# g = nx.dodecahedral_graph()\n",
        "\n",
        "\n",
        "if \"pos\" in g.nodes[0]:\n",
        "    # extract the embedded coords in g\n",
        "    layout = np.array([g.nodes[v][\"pos\"] for v in g])\n",
        "else:\n",
        "    # estimate of the positions of the nodes\n",
        "    layout = make_layout(g, edgelen=L)\n",
        "\n",
        "# set orientations of the hydrogen bonds.\n",
        "# if pos is given, the net dipole moment is minimized.\n",
        "dg = ice_graph(g, vertexPositions=layout, dipoleOptimizationCycles=100)\n",
        "# dg = ice_graph(g)\n",
        "\n",
        "# get the unique id for the graph\n",
        "# id = serialize(dg)\n",
        "# print(id)\n",
        "\n",
        "# put water molecules\n",
        "gro = render(dg, layout, watermodel=tip4p)\n",
        "with open(\"save.gro\", \"w\") as f:\n",
        "    f.write(gro)\n",
        "\n",
        "# show\n",
        "view = py3Dmol.view()\n",
        "view.addModel(gro, \"gro\")\n",
        "view.setStyle({\"stick\": {}})\n",
        "view.addUnitCell()\n",
        "view.zoomTo()\n",
        "view.show()"
      ]
    },
    {
      "cell_type": "markdown",
      "metadata": {
        "id": "t3NYzSMj9b2d"
      },
      "source": [
        "Rebuild the cluster from id."
      ]
    },
    {
      "cell_type": "code",
      "execution_count": null,
      "metadata": {
        "id": "5On1Hgno9b2e"
      },
      "outputs": [],
      "source": [
        "import networkx as nx\n",
        "\n",
        "from clustice.geometry import make_layout\n",
        "from clustice.gromacs import render\n",
        "from genice_core.serialize import deserialize\n",
        "from clustice.water import tip4p\n",
        "\n",
        "import py3Dmol\n",
        "\n",
        "s = \"1.2.3+6.19.3.4+6.7.14.1+7.8+13.0+9.10+12.16.12.13+15.5.15+17.4+18.11.0+18\"\n",
        "\n",
        "dg = deserialize(s)\n",
        "\n",
        "# Make layout of the nodes\n",
        "g = nx.Graph(dg)\n",
        "L = 0.27\n",
        "layout = make_layout(g, edgelen=L)\n",
        "\n",
        "# put water molecules\n",
        "gro = render(dg, layout, watermodel=tip4p)\n",
        "\n",
        "# show\n",
        "view = py3Dmol.view()\n",
        "view.addModel(gro, \"gro\")\n",
        "view.setStyle({\"stick\": {}})\n",
        "view.addUnitCell()\n",
        "view.zoomTo()\n",
        "view.show()"
      ]
    },
    {
      "cell_type": "code",
      "execution_count": null,
      "metadata": {
        "id": "3zaRMD64-11S"
      },
      "outputs": [],
      "source": [
        "pip install GenIce2"
      ]
    },
    {
      "cell_type": "code",
      "execution_count": null,
      "metadata": {
        "id": "AYj08fUC-xXl"
      },
      "outputs": [],
      "source": [
        "import networkx as nx\n",
        "from genice2.genice import GenIce\n",
        "from genice2.plugin import Format, Lattice\n",
        "\n",
        "from clustice.gromacs import render\n",
        "from genice_core import ice_graph\n",
        "from clustice.water import tip4p\n",
        "\n",
        "import py3Dmol\n",
        "\n",
        "lattice = Lattice(\"1h\")\n",
        "formatter = Format(\"raw\", stage=(1, 2))\n",
        "raw = GenIce(lattice, signature=\"Ice Ih\", rep=(3, 3, 3)).generate_ice(formatter)\n",
        "\n",
        "# graph is the topology of the hydrogen-bond network\n",
        "g = nx.Graph(raw[\"graph\"])\n",
        "# reppositions contains the positions of CoM of water in fractional coordinate\n",
        "layout = raw[\"reppositions\"]\n",
        "# repcell is the cell matrix (transposed)\n",
        "cell = raw[\"repcell\"]\n",
        "\n",
        "# set orientations of the hydrogen bonds.\n",
        "# It automatically depolarizes by optimizing the arrangement.\n",
        "dg = ice_graph(\n",
        "    g, vertexPositions=layout, isPeriodicBoundary=True, dipoleOptimizationCycles=200\n",
        ")\n",
        "\n",
        "# put water molecules\n",
        "gro = render(\n",
        "    dg,\n",
        "    layout @ cell,\n",
        "    watermodel=tip4p,\n",
        "    cell=f\"{cell[0,0]} {cell[1,1]} {cell[2,2]}\",\n",
        "    pbc=True,\n",
        ")\n",
        "\n",
        "# show\n",
        "view = py3Dmol.view()\n",
        "view.addModel(gro, \"gro\")\n",
        "view.setStyle({\"stick\": {}})\n",
        "view.addUnitCell()\n",
        "view.zoomTo()\n",
        "view.show()"
      ]
    },
    {
      "cell_type": "markdown",
      "metadata": {
        "id": "ZUMUhtR59b2f"
      },
      "source": [
        "# Benchmark tests"
      ]
    },
    {
      "cell_type": "code",
      "execution_count": null,
      "metadata": {
        "id": "bjGRUU0y9b2f"
      },
      "outputs": [],
      "source": [
        "from clustice.geometry import make_layout\n",
        "from clustice.graph import great_icosahedron\n",
        "\n",
        "from logging import getLogger, INFO\n",
        "\n",
        "logger = getLogger()\n",
        "logger.setLevel(INFO)\n",
        "\n",
        "# O-O distance\n",
        "L = 0.27\n",
        "\n",
        "# note: g must be a graph whose labels start from 0.\n",
        "# g = nx.dodecahedral_graph() # dodecahedral 20mer\n",
        "g = great_icosahedron(1)\n",
        "layout = make_layout(g, edgelen=L)\n",
        "print(len(layout))\n"
      ]
    },
    {
      "cell_type": "code",
      "execution_count": null,
      "metadata": {
        "id": "zTu-Z-Qr9b2f"
      },
      "outputs": [],
      "source": [
        "%%timeit\n",
        "\n",
        "# estimate of the positions of the nodes\n",
        "layout = make_layout(g, edgelen=L)\n",
        "\n"
      ]
    },
    {
      "cell_type": "code",
      "execution_count": null,
      "metadata": {
        "id": "rPMqfYDa9b2g"
      },
      "outputs": [],
      "source": [
        "%%timeit\n",
        "dg = ice_graph(g, vertexPositions=layout)\n",
        "\n"
      ]
    },
    {
      "cell_type": "code",
      "execution_count": null,
      "metadata": {
        "id": "5lEx37hp9b2g"
      },
      "outputs": [],
      "source": [
        "%%timeit\n",
        "dg = ice_graph(g)\n"
      ]
    },
    {
      "cell_type": "code",
      "execution_count": null,
      "metadata": {
        "id": "-7pmbN1b9b2h"
      },
      "outputs": [],
      "source": [
        "# great_icosahedron\n",
        "# size  nnode   constellation        depolarization       ice rule\n",
        "benchmark=[\n",
        "    [0, 20,  0.146, 0.00612, 0.000410],\n",
        "    [1, 100, 0.676, 0.00865, 0.00229],\n",
        "    [2, 280, 3.14,  0.0178,  0.00569],\n",
        "    [3, 600, 51.4,  0.024,   0.0133]"
      ]
    }
  ],
  "metadata": {
    "colab": {
      "include_colab_link": true,
      "provenance": []
    },
    "kernelspec": {
      "display_name": "ClustIce-TrkXxxIw",
      "language": "python",
      "name": "python3"
    },
    "language_info": {
      "codemirror_mode": {
        "name": "ipython",
        "version": 3
      },
      "file_extension": ".py",
      "mimetype": "text/x-python",
      "name": "python",
      "nbconvert_exporter": "python",
      "pygments_lexer": "ipython3",
      "version": "3.11.4"
    },
    "orig_nbformat": 4
  },
  "nbformat": 4,
  "nbformat_minor": 0
}
